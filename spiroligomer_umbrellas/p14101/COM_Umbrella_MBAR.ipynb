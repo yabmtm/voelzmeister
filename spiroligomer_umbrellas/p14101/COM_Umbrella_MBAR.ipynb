{
 "cells": [
  {
   "cell_type": "code",
   "execution_count": 1,
   "metadata": {},
   "outputs": [
    {
     "name": "stdout",
     "output_type": "stream",
     "text": [
      "COM_Umbrella_MBAR.ipynb\n",
      "/home/tug27224/packages/yabmtm/voelzmeister/spiroligomer_umbrellas/p14101\n"
     ]
    }
   ],
   "source": [
    "%ls\n",
    "\n",
    "import os, sys, glob, tqdm\n",
    "import numpy as np\n",
    "import mdtraj as md\n",
    "from pymbar import MBAR\n",
    "from pymbar import timeseries\n",
    "\n",
    "print(os.getcwd())\n",
    "\n",
    "# Spiroligomer projects contain 20 runs {0..19} which use umbrella sampling to pull\n",
    "# a ligand (initially unbound in solution) towards MDM2. These umbrellas run from 0.1nm\n",
    "# to 2.0nm with steps of 0.1nm. There are currently no unbiased ensembles, scaling of umbrella\n",
    "# potentials, or runs intiated from a bound site (bound state unknown).\n",
    "\n",
    "# I realize I am not doing any subsampling right now, which should be implemented. I'm working \n",
    "# on that in the time being as well as starting extra runs on FAH for the project. One will be\n",
    "# the unbiased ensemble, and then some scaling kspring_k down from 200. \n",
    "\n",
    "# Questions:\n",
    "# Should kspring_k be scaled down just on the closest umbrella, farthest umbrella, both?\n",
    "# Should there be unbiased ensembles starting from both bound and unbound states?\n",
    "# Without subsampling, should u_kln = np.zeros([K,L,N_min], np.float64) instead of N_max, so\n",
    "# that runs of different size can be brought together?\n",
    "\n",
    "# Following that, should u_kln[k,l,0:N_k[k]] = np.zeros([0:N_min]) if k = l? That is, the \n",
    "# difference between the potential for snapshot n from ensemble k and ensemble l should be\n",
    "# 0 since k and l are the same ensemble.\n",
    "\n",
    "# When calculating u_kln, do we need u_kln and u_lkn, or is this inefficient? It seems that\n",
    "# right now we are calculating all combinations of k and l.\n",
    "\n",
    "# As you will see below, I have successfully run MBAR using these constraints (although much\n",
    "# to the dismay of my RAM without subsampling. If you run this, I would suggest striding the \n",
    "# data before calling MBAR), and generated a\n",
    "# pmf, but I think I'll need to add the aforementioned ensembles and figure out how to run it\n",
    "# with ensembles of different sizes, AND add a subsampling routine before I can really trust\n",
    "# any results.\n"
   ]
  },
  {
   "cell_type": "code",
   "execution_count": 2,
   "metadata": {},
   "outputs": [],
   "source": [
    "# setting parameters for the workflow to follow...\n",
    "\n",
    "# denote run indices\n",
    "run_indices = range(20)\n",
    "# these runs represent the ensembles: lam = false, d = {0.1, 2.0, 0.1}\n",
    "\n",
    "# denote number of ensembles\n",
    "K = len(run_indices)\n",
    "L = K\n",
    "\n",
    "# kspring_k is the harmonic potential spring constant (in kJ/mol/nm^2) for eack ensemble\n",
    "kspring_k = [200.0] * K\n",
    "u_min = [0.1+0.1*k for k in range(K)]\n",
    "\n",
    "# Keep track of WHAT distance(s) is/are being restrained in each ensemble\n",
    "restrained_distance_indices = [[[555,'COM']]]*K\n",
    "restrained_distance_labels = ['d555-ligand_COM']*K\n",
    "\n",
    "# For this analysis, we will use only the 300K data\n",
    "temperature = 300.0 # in K\n",
    "\n",
    "# T_k is the temperature of each of the K ensembles\n",
    "T_k = np.ones(K,float)*temperature\n",
    "\n",
    "# beta is the inverse temperatures of each ensemble\n",
    "kB = 1.381e-23 * 6.022e23 / 1000.0 # Boltzmann constant in kJ/mol/K\n",
    "beta = 1.0 / (kB * temperature) # inverse temperature of simulations (in 1/(kJ/mol))\n"
   ]
  },
  {
   "cell_type": "code",
   "execution_count": 3,
   "metadata": {},
   "outputs": [],
   "source": [
    "# this is useful for umbrella simulations that use COM of ligand as \n",
    "# restraint point instead of a single atom.\n",
    "\n",
    "def compute_center_of_mass(traj, atom_indices=None):\n",
    "    \"\"\"Compute the center of mass for each frame.\n",
    "    Parameters\n",
    "    ----------\n",
    "    traj : Trajectory\n",
    "        Trajectory to compute center of mass for\n",
    "    atom_indices : list of int\n",
    "        Atoms to compute center of mass for. If None,\n",
    "        will compute over all atoms\n",
    "    Returns\n",
    "    -------\n",
    "    com : np.ndarray, shape=(n_frames, 3)\n",
    "         Coordinates of the center of mass for each frame\n",
    "    \"\"\"\n",
    "\n",
    "    if atom_indices is None:\n",
    "        atoms = traj.top.atoms\n",
    "        coords = traj.xyz\n",
    "    else:\n",
    "        atoms = [traj.top.atom(i) for i in atom_indices]\n",
    "        coords = np.take(traj.xyz, atom_indices, axis=1)\n",
    "\n",
    "    com = np.zeros((traj.n_frames, 3))\n",
    "    masses = np.array([a.element.mass for a in traj.top.atoms])\n",
    "    masses = np.array([a.element.mass for a in atoms])\n",
    "    masses /= masses.sum()\n",
    "\n",
    "    #for i, x in enumerate(traj.xyz):\n",
    "    for i, x in enumerate(coords):\n",
    "        com[i, :] = x.astype('float64').T.dot(masses)\n",
    "    return com"
   ]
  },
  {
   "cell_type": "code",
   "execution_count": 5,
   "metadata": {},
   "outputs": [
    {
     "data": {
      "application/vnd.jupyter.widget-view+json": {
       "model_id": "50050f55d5464ad6bb564d25ff184f08",
       "version_major": 2,
       "version_minor": 0
      },
      "text/plain": [
       "HBox(children=(IntProgress(value=0, max=50), HTML(value='')))"
      ]
     },
     "metadata": {},
     "output_type": "display_data"
    },
    {
     "name": "stdout",
     "output_type": "stream",
     "text": [
      "\n"
     ]
    },
    {
     "data": {
      "application/vnd.jupyter.widget-view+json": {
       "model_id": "1869c19134be4812a6caa3b69caef5cb",
       "version_major": 2,
       "version_minor": 0
      },
      "text/plain": [
       "HBox(children=(IntProgress(value=0, max=50), HTML(value='')))"
      ]
     },
     "metadata": {},
     "output_type": "display_data"
    },
    {
     "name": "stdout",
     "output_type": "stream",
     "text": [
      "\n"
     ]
    },
    {
     "data": {
      "application/vnd.jupyter.widget-view+json": {
       "model_id": "4370837b19004bd1b0c900f5ca76631d",
       "version_major": 2,
       "version_minor": 0
      },
      "text/plain": [
       "HBox(children=(IntProgress(value=0, max=50), HTML(value='')))"
      ]
     },
     "metadata": {},
     "output_type": "display_data"
    },
    {
     "name": "stdout",
     "output_type": "stream",
     "text": [
      "\n"
     ]
    },
    {
     "data": {
      "application/vnd.jupyter.widget-view+json": {
       "model_id": "09b5bea1b5ce4c119454867454ad63cb",
       "version_major": 2,
       "version_minor": 0
      },
      "text/plain": [
       "HBox(children=(IntProgress(value=0, max=50), HTML(value='')))"
      ]
     },
     "metadata": {},
     "output_type": "display_data"
    },
    {
     "name": "stdout",
     "output_type": "stream",
     "text": [
      "\n"
     ]
    },
    {
     "data": {
      "application/vnd.jupyter.widget-view+json": {
       "model_id": "a26014be0a3d42098c2213f8736875a7",
       "version_major": 2,
       "version_minor": 0
      },
      "text/plain": [
       "HBox(children=(IntProgress(value=0, max=50), HTML(value='')))"
      ]
     },
     "metadata": {},
     "output_type": "display_data"
    },
    {
     "name": "stdout",
     "output_type": "stream",
     "text": [
      "\n"
     ]
    },
    {
     "data": {
      "application/vnd.jupyter.widget-view+json": {
       "model_id": "c980ae23748f4a2b808e6c48f034dd06",
       "version_major": 2,
       "version_minor": 0
      },
      "text/plain": [
       "HBox(children=(IntProgress(value=0, max=50), HTML(value='')))"
      ]
     },
     "metadata": {},
     "output_type": "display_data"
    },
    {
     "name": "stdout",
     "output_type": "stream",
     "text": [
      "\n"
     ]
    },
    {
     "data": {
      "application/vnd.jupyter.widget-view+json": {
       "model_id": "273867543c6445caa8ffaf60fd57431b",
       "version_major": 2,
       "version_minor": 0
      },
      "text/plain": [
       "HBox(children=(IntProgress(value=0, max=50), HTML(value='')))"
      ]
     },
     "metadata": {},
     "output_type": "display_data"
    },
    {
     "name": "stdout",
     "output_type": "stream",
     "text": [
      "\n"
     ]
    },
    {
     "data": {
      "application/vnd.jupyter.widget-view+json": {
       "model_id": "c242c53fa0a14fffbc771f540e9049cd",
       "version_major": 2,
       "version_minor": 0
      },
      "text/plain": [
       "HBox(children=(IntProgress(value=0, max=50), HTML(value='')))"
      ]
     },
     "metadata": {},
     "output_type": "display_data"
    },
    {
     "name": "stdout",
     "output_type": "stream",
     "text": [
      "\n"
     ]
    },
    {
     "data": {
      "application/vnd.jupyter.widget-view+json": {
       "model_id": "4d75f96f14ea4b07a84526b5dd2f57be",
       "version_major": 2,
       "version_minor": 0
      },
      "text/plain": [
       "HBox(children=(IntProgress(value=0, max=50), HTML(value='')))"
      ]
     },
     "metadata": {},
     "output_type": "display_data"
    },
    {
     "name": "stdout",
     "output_type": "stream",
     "text": [
      "\n"
     ]
    },
    {
     "data": {
      "application/vnd.jupyter.widget-view+json": {
       "model_id": "68e4b7608318477c9bf5e3dd54b755f0",
       "version_major": 2,
       "version_minor": 0
      },
      "text/plain": [
       "HBox(children=(IntProgress(value=0, max=50), HTML(value='')))"
      ]
     },
     "metadata": {},
     "output_type": "display_data"
    },
    {
     "name": "stdout",
     "output_type": "stream",
     "text": [
      "\n"
     ]
    },
    {
     "data": {
      "application/vnd.jupyter.widget-view+json": {
       "model_id": "38ef2929b93f4d5da9fd91073bb259d9",
       "version_major": 2,
       "version_minor": 0
      },
      "text/plain": [
       "HBox(children=(IntProgress(value=0, max=50), HTML(value='')))"
      ]
     },
     "metadata": {},
     "output_type": "display_data"
    },
    {
     "name": "stdout",
     "output_type": "stream",
     "text": [
      "\n"
     ]
    },
    {
     "data": {
      "application/vnd.jupyter.widget-view+json": {
       "model_id": "b3d061dd6a8b46189d683245336b7f93",
       "version_major": 2,
       "version_minor": 0
      },
      "text/plain": [
       "HBox(children=(IntProgress(value=0, max=50), HTML(value='')))"
      ]
     },
     "metadata": {},
     "output_type": "display_data"
    },
    {
     "name": "stdout",
     "output_type": "stream",
     "text": [
      "\n"
     ]
    },
    {
     "data": {
      "application/vnd.jupyter.widget-view+json": {
       "model_id": "3f056d97691c4eaf89e101011ea14bfc",
       "version_major": 2,
       "version_minor": 0
      },
      "text/plain": [
       "HBox(children=(IntProgress(value=0, max=50), HTML(value='')))"
      ]
     },
     "metadata": {},
     "output_type": "display_data"
    },
    {
     "name": "stdout",
     "output_type": "stream",
     "text": [
      "\n"
     ]
    },
    {
     "data": {
      "application/vnd.jupyter.widget-view+json": {
       "model_id": "ce2d3ba493b04c4fa8037a7951b3c77e",
       "version_major": 2,
       "version_minor": 0
      },
      "text/plain": [
       "HBox(children=(IntProgress(value=0, max=50), HTML(value='')))"
      ]
     },
     "metadata": {},
     "output_type": "display_data"
    },
    {
     "name": "stdout",
     "output_type": "stream",
     "text": [
      "\n"
     ]
    },
    {
     "data": {
      "application/vnd.jupyter.widget-view+json": {
       "model_id": "6c707a99755348549ec9fecf41650798",
       "version_major": 2,
       "version_minor": 0
      },
      "text/plain": [
       "HBox(children=(IntProgress(value=0, max=50), HTML(value='')))"
      ]
     },
     "metadata": {},
     "output_type": "display_data"
    },
    {
     "name": "stdout",
     "output_type": "stream",
     "text": [
      "\n"
     ]
    },
    {
     "data": {
      "application/vnd.jupyter.widget-view+json": {
       "model_id": "5db286f49bbe427cb8c76a1a0f30c7e3",
       "version_major": 2,
       "version_minor": 0
      },
      "text/plain": [
       "HBox(children=(IntProgress(value=0, max=50), HTML(value='')))"
      ]
     },
     "metadata": {},
     "output_type": "display_data"
    },
    {
     "name": "stdout",
     "output_type": "stream",
     "text": [
      "\n"
     ]
    },
    {
     "data": {
      "application/vnd.jupyter.widget-view+json": {
       "model_id": "4b8e00a75d954570b02d32e2f7498ab2",
       "version_major": 2,
       "version_minor": 0
      },
      "text/plain": [
       "HBox(children=(IntProgress(value=0, max=50), HTML(value='')))"
      ]
     },
     "metadata": {},
     "output_type": "display_data"
    },
    {
     "name": "stdout",
     "output_type": "stream",
     "text": [
      "\n"
     ]
    },
    {
     "data": {
      "application/vnd.jupyter.widget-view+json": {
       "model_id": "1387bc23ff7c4936b53a28ab6c729baf",
       "version_major": 2,
       "version_minor": 0
      },
      "text/plain": [
       "HBox(children=(IntProgress(value=0, max=50), HTML(value='')))"
      ]
     },
     "metadata": {},
     "output_type": "display_data"
    },
    {
     "name": "stdout",
     "output_type": "stream",
     "text": [
      "\n"
     ]
    },
    {
     "data": {
      "application/vnd.jupyter.widget-view+json": {
       "model_id": "c59b9caa16254ca2a39c5f1db01a5cf8",
       "version_major": 2,
       "version_minor": 0
      },
      "text/plain": [
       "HBox(children=(IntProgress(value=0, max=50), HTML(value='')))"
      ]
     },
     "metadata": {},
     "output_type": "display_data"
    },
    {
     "name": "stdout",
     "output_type": "stream",
     "text": [
      "\n"
     ]
    },
    {
     "data": {
      "application/vnd.jupyter.widget-view+json": {
       "model_id": "f0d36f740fbe4c4fa5c858eaf1b0c0b4",
       "version_major": 2,
       "version_minor": 0
      },
      "text/plain": [
       "HBox(children=(IntProgress(value=0, max=50), HTML(value='')))"
      ]
     },
     "metadata": {},
     "output_type": "display_data"
    },
    {
     "name": "stdout",
     "output_type": "stream",
     "text": [
      "\n"
     ]
    }
   ],
   "source": [
    "# here we are writing .dat files for each run. these look the same as si's, but only have\n",
    "# columns for n_clone, time(ns), and one distance compared to si's several distances.\n",
    "\n",
    "PROJid = '14101'\n",
    "path = '/media/tug27224/methuselah1/new1/TRAJECTORIES/PROJ%s'%PROJid\n",
    "custom_residues = ['1MQ','20Q','20U','I18','I31','NUT','YIN','K23']\n",
    "custom_residues += ['B1A','B1B','B2A','B2B','B2C','B2D','B2E','B3A','B3B']\n",
    "custom_residues += ['B4A','B4B','B4C','B4D','B5A','B5B','B5C','B6A']\n",
    "\n",
    "for run in range(len(run_indices)):\n",
    "    distances = []\n",
    "    f = open('run_%d_dists.dat'%run_indices[run],'a')\n",
    "    f.write('#clone\\ttime(ns)\\t%s\\n'%restrained_distance_labels[run])\n",
    "    \n",
    "    traj_files = sorted(glob.glob(path + '/P%s_R%d_*'%(PROJid,run_indices[run])))\n",
    "    \n",
    "    for j in tqdm.tqdm_notebook(range(len(traj_files))):\n",
    "        traj = md.load(traj_files[j], top='%s.gro'%PROJid)\n",
    "        ligand_indices = [a.index for a in traj.topology.atoms if a.residue.name in custom_residues]\n",
    "        ligand_COM = compute_center_of_mass(traj,ligand_indices)\n",
    "        protein_xyz = np.take(traj.xyz, [555], axis=1)\n",
    "\n",
    "        for k in range(len(traj)):\n",
    "            distance_between_groups = np.sqrt((ligand_COM[k][0] - protein_xyz[k][0][0])**2 +\n",
    "                                (ligand_COM[k][1] - protein_xyz[k][0][1])**2 +\n",
    "                                (ligand_COM[k][2] - protein_xyz[k][0][2])**2)\n",
    "            distance_from_equil = np.abs(distance_between_groups - u_min[run])\n",
    "            \n",
    "            f.write('%d\\t%f\\t%f\\n'%(j,0.1+ 0.1*k,distance_from_equil))\n",
    "    f.close()\n",
    "    "
   ]
  },
  {
   "cell_type": "markdown",
   "metadata": {},
   "source": [
    "## Step 1.  Let's look at the raw distance data"
   ]
  },
  {
   "cell_type": "code",
   "execution_count": 6,
   "metadata": {},
   "outputs": [
    {
     "data": {
      "image/png": "[encoded data removed]",
      "text/plain": [
       "<Figure size 720x2160 with 20 Axes>"
      ]
     },
     "metadata": {
      "needs_background": "light"
     },
     "output_type": "display_data"
    }
   ],
   "source": [
    "# For each RUN, lets look at the distrbution of the distances\n",
    "\n",
    "from matplotlib import pyplot as plt\n",
    "%matplotlib inline\n",
    "\n",
    "# each input file has columns:\n",
    "# clone\ttime(ns)\tdist_7-116\tdist_7-183\tdist_7-208\tdist_7-215\n",
    "column_labels = ['clone', 'time(ns)', 'd555-ligand_COM']\n",
    "colors = {'None':'k', 'd555-ligand_COM':'m'}\n",
    "indir = '.'\n",
    "plt.figure( figsize=(10,30) )\n",
    "panel = 1\n",
    "mybins = np.arange(0., 2.5, 0.1)\n",
    "for i in range(K):\n",
    "    run = run_indices[i]\n",
    "    infile = os.path.join(os.path.abspath(indir),'run_%d_dists.dat'%run)\n",
    "    data = np.loadtxt(infile)\n",
    "    for j in [2]:  # column indices for each distance\n",
    "        counts, bin_edges = np.histogram(data[:,j], bins=mybins)\n",
    "        bin_centers = (bin_edges[0:-1] + bin_edges[1:])/2.0\n",
    "        plt.subplot(K,4,panel)\n",
    "        plt.fill_between(bin_centers, counts, np.zeros(counts.shape), color=colors[restrained_distance_labels[i]], alpha=0.5)\n",
    "        plt.xlabel('distance (nm)')\n",
    "        plt.yticks([])\n",
    "        plt.title(column_labels[j])\n",
    "        if j==2:\n",
    "            plt.ylabel('u_min: %.2f\\nk_spring: %.2f'%(u_min[i],kspring_k[i]))\n",
    "        panel += 1\n",
    "plt.tight_layout()\n",
    "plt.show()"
   ]
  },
  {
   "cell_type": "markdown",
   "metadata": {},
   "source": [
    "## Step 2. Prepare the data for input to MBAR\n",
    "\n",
    "### 2.1 subsample the data to remove time-correlations\n",
    "\n",
    "MBAR (like other free energy estimators such as WHAM) assumes that samples are drawn from each thermodynamic ensemble at thermal equilibrium.  Any time-correlated data is *statistically inefficient* and will bias the results.  The authors of MBAR provide several tools in `pymbar.timeseries` to deal with this, which essentially compute the autocorrelation time $\\tau_c$ of some observable, and subsample data every $2\\tau_c$.  In theory, this is great, but in *practice*, this can sometimes pare down your samples much too sparsely.  If possible, I recommend using all the data, and then seeing how subsampling effects the results.  Of course, some datasets (especially from Folding@home) are simply too large to efficiently calculate free energies using MBAR. In this case, subsampling can be a huge help.\n",
    "\n",
    "For now, we will **ignore** subsampling, and proceed with our (test) dataset.\n",
    "\n",
    "### 2.2 construct the `u_kln` matrix of energies\n",
    "\n",
    "The `pymbar.MBAR()` class expects data in one of two forms:\n",
    "\n",
    "```\n",
    " |      ----------\n",
    " |      u_kn : np.ndarray, float, shape=(K, N_max)\n",
    " |          ``u_kn[k,n]`` is the reduced potential energy of uncorrelated\n",
    " |          configuration n evaluated at state k.\n",
    " |      u_kln : np.ndarray, float, shape (K, L, N_max)\n",
    " |          if the simulation is in form ``u_kln[k,l,n]`` it is converted to ``u_kn`` format\n",
    " |      \n",
    " |          u_kn = [ u_1(x_1) u_1(x_2) u_1(x_3) . . . u_1(x_n)\n",
    " |                   u_2(x_1) u_2(x_2) u_2(x_3) . . . u_2(x_n)\n",
    " |                                              . . .\n",
    " |                   u_k(x_1) u_k(x_2) u_k(x_3) . . . u_k(x_n)]\n",
    " |      \n",
    " |      N_k :  np.ndarray, int, shape=(K)\n",
    " |          ``N_k[k]`` is the number of uncorrelated snapshots sampled from state ``k``.\n",
    " |          Some may be zero, indicating that there are no samples from that state.\n",
    " |      \n",
    " |          We assume that the states are ordered such that the first ``N_k``\n",
    " |          are from the first state, the 2nd ``N_k`` the second state, and so\n",
    " |          forth. This only becomes important for BAR -- MBAR does not\n",
    " |          care which samples are from which state.  We should eventually\n",
    " |          allow this assumption to be overwritten by parameters passed\n",
    " |          from above, once ``u_kln`` is phased out.\n",
    "\n",
    "```\n",
    "\n",
    "For now, let's try to build an array of reduced energies in the `u_kln` form..."
   ]
  },
  {
   "cell_type": "code",
   "execution_count": 7,
   "metadata": {},
   "outputs": [
    {
     "name": "stdout",
     "output_type": "stream",
     "text": [
      "N_k [348447 325059 364060 370508 355192 360868 353925 348438 352087 339343\n",
      " 345183 339457 345198 347181 314420 357070 346132 360325 338111 320721]\n",
      "N_min 314420\n",
      "N_max 370508\n"
     ]
    }
   ],
   "source": [
    "# First let's compute the lengths of all the trajectories\n",
    "\n",
    "# N_k is the number of trajectory snapshots sampled in each enesmble \n",
    "N_k = np.zeros([K], dtype = int)   # make an empty array for now\n",
    "for i in range(K):\n",
    "    run = run_indices[i]\n",
    "    infile = os.path.join(os.path.abspath(indir),'run_%d_dists.dat'%run)\n",
    "    N_k[i] = np.loadtxt(infile).shape[0]\n",
    "\n",
    "print('N_k', N_k)\n",
    "N_min = np.min(N_k)\n",
    "N_max = np.max(N_k)\n",
    "print('N_min', N_min)\n",
    "print('N_max', N_max)\n",
    "\n",
    "# I added this to make each ensemble the same size. MBAR seems to raise an exception otherwise?\n",
    "N_k = np.asarray([N_min]*len(N_k))"
   ]
  },
  {
   "cell_type": "code",
   "execution_count": 10,
   "metadata": {},
   "outputs": [
    {
     "name": "stdout",
     "output_type": "stream",
     "text": [
      "len(u_n_fill_indices) 21\n",
      "u_n_fill_indices [0, 314420, 628840, 943260, 1257680, 1572100, 1886520, 2200940, 2515360, 2829780, 3144200, 3458620, 3773040, 4087460, 4401880, 4716300, 5030720, 5345140, 5659560, 5973980, 6288400]\n",
      "len(u_n) 6288400\n"
     ]
    }
   ],
   "source": [
    "# Next, we will create and fill the array u_kln\n",
    "# u_kln[k,l,n] is the reduced potential energy of \n",
    "# snapshot n from umbrella simulation k evaluated at umbrella l\n",
    "u_kln = np.zeros([K,L,N_max], np.float64) \n",
    "\n",
    "# Let's also keep track of all the reduced energies as calculated for the unbiased ensemble (k=0)\n",
    "N_tot = N_k.sum()\n",
    "u_n = np.zeros(N_tot)\n",
    "u_n_fill_indices = [0] \n",
    "for k in range(K):\n",
    "    u_n_fill_indices.append( u_n_fill_indices[-1] + N_k[k])\n",
    "print('len(u_n_fill_indices)', len(u_n_fill_indices))\n",
    "print('u_n_fill_indices', u_n_fill_indices)\n",
    "print('len(u_n)', len(u_n))\n",
    "\n",
    "    "
   ]
  },
  {
   "cell_type": "code",
   "execution_count": 13,
   "metadata": {},
   "outputs": [
    {
     "name": "stdout",
     "output_type": "stream",
     "text": [
      "Calculating u_kl for (k,l) = (0,0)...\n",
      "Calculating u_kl for (k,l) = (0,1)...\n",
      "Calculating u_kl for (k,l) = (0,2)...\n",
      "Calculating u_kl for (k,l) = (0,3)...\n",
      "Calculating u_kl for (k,l) = (0,4)...\n",
      "Calculating u_kl for (k,l) = (0,5)...\n",
      "Calculating u_kl for (k,l) = (0,6)...\n",
      "Calculating u_kl for (k,l) = (0,7)...\n",
      "Calculating u_kl for (k,l) = (0,8)...\n",
      "Calculating u_kl for (k,l) = (0,9)...\n",
      "Calculating u_kl for (k,l) = (0,10)...\n",
      "Calculating u_kl for (k,l) = (0,11)...\n",
      "Calculating u_kl for (k,l) = (0,12)...\n",
      "Calculating u_kl for (k,l) = (0,13)...\n",
      "Calculating u_kl for (k,l) = (0,14)...\n",
      "Calculating u_kl for (k,l) = (0,15)...\n",
      "Calculating u_kl for (k,l) = (0,16)...\n",
      "Calculating u_kl for (k,l) = (0,17)...\n",
      "Calculating u_kl for (k,l) = (0,18)...\n",
      "Calculating u_kl for (k,l) = (0,19)...\n",
      "Calculating u_kl for (k,l) = (1,0)...\n",
      "Calculating u_kl for (k,l) = (1,1)...\n",
      "Calculating u_kl for (k,l) = (1,2)...\n",
      "Calculating u_kl for (k,l) = (1,3)...\n",
      "Calculating u_kl for (k,l) = (1,4)...\n",
      "Calculating u_kl for (k,l) = (1,5)...\n",
      "Calculating u_kl for (k,l) = (1,6)...\n",
      "Calculating u_kl for (k,l) = (1,7)...\n",
      "Calculating u_kl for (k,l) = (1,8)...\n",
      "Calculating u_kl for (k,l) = (1,9)...\n",
      "Calculating u_kl for (k,l) = (1,10)...\n",
      "Calculating u_kl for (k,l) = (1,11)...\n",
      "Calculating u_kl for (k,l) = (1,12)...\n",
      "Calculating u_kl for (k,l) = (1,13)...\n",
      "Calculating u_kl for (k,l) = (1,14)...\n",
      "Calculating u_kl for (k,l) = (1,15)...\n",
      "Calculating u_kl for (k,l) = (1,16)...\n",
      "Calculating u_kl for (k,l) = (1,17)...\n",
      "Calculating u_kl for (k,l) = (1,18)...\n",
      "Calculating u_kl for (k,l) = (1,19)...\n",
      "Calculating u_kl for (k,l) = (2,0)...\n",
      "Calculating u_kl for (k,l) = (2,1)...\n",
      "Calculating u_kl for (k,l) = (2,2)...\n",
      "Calculating u_kl for (k,l) = (2,3)...\n",
      "Calculating u_kl for (k,l) = (2,4)...\n",
      "Calculating u_kl for (k,l) = (2,5)...\n",
      "Calculating u_kl for (k,l) = (2,6)...\n",
      "Calculating u_kl for (k,l) = (2,7)...\n",
      "Calculating u_kl for (k,l) = (2,8)...\n",
      "Calculating u_kl for (k,l) = (2,9)...\n",
      "Calculating u_kl for (k,l) = (2,10)...\n",
      "Calculating u_kl for (k,l) = (2,11)...\n",
      "Calculating u_kl for (k,l) = (2,12)...\n",
      "Calculating u_kl for (k,l) = (2,13)...\n",
      "Calculating u_kl for (k,l) = (2,14)...\n",
      "Calculating u_kl for (k,l) = (2,15)...\n",
      "Calculating u_kl for (k,l) = (2,16)...\n",
      "Calculating u_kl for (k,l) = (2,17)...\n",
      "Calculating u_kl for (k,l) = (2,18)...\n",
      "Calculating u_kl for (k,l) = (2,19)...\n",
      "Calculating u_kl for (k,l) = (3,0)...\n",
      "Calculating u_kl for (k,l) = (3,1)...\n",
      "Calculating u_kl for (k,l) = (3,2)...\n",
      "Calculating u_kl for (k,l) = (3,3)...\n",
      "Calculating u_kl for (k,l) = (3,4)...\n",
      "Calculating u_kl for (k,l) = (3,5)...\n",
      "Calculating u_kl for (k,l) = (3,6)...\n",
      "Calculating u_kl for (k,l) = (3,7)...\n",
      "Calculating u_kl for (k,l) = (3,8)...\n",
      "Calculating u_kl for (k,l) = (3,9)...\n",
      "Calculating u_kl for (k,l) = (3,10)...\n",
      "Calculating u_kl for (k,l) = (3,11)...\n",
      "Calculating u_kl for (k,l) = (3,12)...\n",
      "Calculating u_kl for (k,l) = (3,13)...\n",
      "Calculating u_kl for (k,l) = (3,14)...\n",
      "Calculating u_kl for (k,l) = (3,15)...\n",
      "Calculating u_kl for (k,l) = (3,16)...\n",
      "Calculating u_kl for (k,l) = (3,17)...\n",
      "Calculating u_kl for (k,l) = (3,18)...\n",
      "Calculating u_kl for (k,l) = (3,19)...\n",
      "Calculating u_kl for (k,l) = (4,0)...\n",
      "Calculating u_kl for (k,l) = (4,1)...\n",
      "Calculating u_kl for (k,l) = (4,2)...\n",
      "Calculating u_kl for (k,l) = (4,3)...\n",
      "Calculating u_kl for (k,l) = (4,4)...\n",
      "Calculating u_kl for (k,l) = (4,5)...\n",
      "Calculating u_kl for (k,l) = (4,6)...\n",
      "Calculating u_kl for (k,l) = (4,7)...\n",
      "Calculating u_kl for (k,l) = (4,8)...\n",
      "Calculating u_kl for (k,l) = (4,9)...\n",
      "Calculating u_kl for (k,l) = (4,10)...\n",
      "Calculating u_kl for (k,l) = (4,11)...\n",
      "Calculating u_kl for (k,l) = (4,12)...\n",
      "Calculating u_kl for (k,l) = (4,13)...\n",
      "Calculating u_kl for (k,l) = (4,14)...\n",
      "Calculating u_kl for (k,l) = (4,15)...\n",
      "Calculating u_kl for (k,l) = (4,16)...\n",
      "Calculating u_kl for (k,l) = (4,17)...\n",
      "Calculating u_kl for (k,l) = (4,18)...\n",
      "Calculating u_kl for (k,l) = (4,19)...\n",
      "Calculating u_kl for (k,l) = (5,0)...\n",
      "Calculating u_kl for (k,l) = (5,1)...\n",
      "Calculating u_kl for (k,l) = (5,2)...\n",
      "Calculating u_kl for (k,l) = (5,3)...\n",
      "Calculating u_kl for (k,l) = (5,4)...\n",
      "Calculating u_kl for (k,l) = (5,5)...\n",
      "Calculating u_kl for (k,l) = (5,6)...\n",
      "Calculating u_kl for (k,l) = (5,7)...\n",
      "Calculating u_kl for (k,l) = (5,8)...\n",
      "Calculating u_kl for (k,l) = (5,9)...\n",
      "Calculating u_kl for (k,l) = (5,10)...\n",
      "Calculating u_kl for (k,l) = (5,11)...\n",
      "Calculating u_kl for (k,l) = (5,12)...\n",
      "Calculating u_kl for (k,l) = (5,13)...\n",
      "Calculating u_kl for (k,l) = (5,14)...\n",
      "Calculating u_kl for (k,l) = (5,15)...\n",
      "Calculating u_kl for (k,l) = (5,16)...\n",
      "Calculating u_kl for (k,l) = (5,17)...\n",
      "Calculating u_kl for (k,l) = (5,18)...\n",
      "Calculating u_kl for (k,l) = (5,19)...\n",
      "Calculating u_kl for (k,l) = (6,0)...\n",
      "Calculating u_kl for (k,l) = (6,1)...\n",
      "Calculating u_kl for (k,l) = (6,2)...\n",
      "Calculating u_kl for (k,l) = (6,3)...\n",
      "Calculating u_kl for (k,l) = (6,4)...\n",
      "Calculating u_kl for (k,l) = (6,5)...\n",
      "Calculating u_kl for (k,l) = (6,6)...\n",
      "Calculating u_kl for (k,l) = (6,7)...\n",
      "Calculating u_kl for (k,l) = (6,8)...\n",
      "Calculating u_kl for (k,l) = (6,9)...\n",
      "Calculating u_kl for (k,l) = (6,10)...\n",
      "Calculating u_kl for (k,l) = (6,11)...\n",
      "Calculating u_kl for (k,l) = (6,12)...\n",
      "Calculating u_kl for (k,l) = (6,13)...\n",
      "Calculating u_kl for (k,l) = (6,14)...\n",
      "Calculating u_kl for (k,l) = (6,15)...\n",
      "Calculating u_kl for (k,l) = (6,16)...\n",
      "Calculating u_kl for (k,l) = (6,17)...\n",
      "Calculating u_kl for (k,l) = (6,18)...\n",
      "Calculating u_kl for (k,l) = (6,19)...\n",
      "Calculating u_kl for (k,l) = (7,0)...\n",
      "Calculating u_kl for (k,l) = (7,1)...\n",
      "Calculating u_kl for (k,l) = (7,2)...\n",
      "Calculating u_kl for (k,l) = (7,3)...\n",
      "Calculating u_kl for (k,l) = (7,4)...\n",
      "Calculating u_kl for (k,l) = (7,5)...\n",
      "Calculating u_kl for (k,l) = (7,6)...\n",
      "Calculating u_kl for (k,l) = (7,7)...\n",
      "Calculating u_kl for (k,l) = (7,8)...\n",
      "Calculating u_kl for (k,l) = (7,9)...\n",
      "Calculating u_kl for (k,l) = (7,10)...\n",
      "Calculating u_kl for (k,l) = (7,11)...\n",
      "Calculating u_kl for (k,l) = (7,12)...\n",
      "Calculating u_kl for (k,l) = (7,13)...\n",
      "Calculating u_kl for (k,l) = (7,14)...\n",
      "Calculating u_kl for (k,l) = (7,15)...\n",
      "Calculating u_kl for (k,l) = (7,16)...\n",
      "Calculating u_kl for (k,l) = (7,17)...\n",
      "Calculating u_kl for (k,l) = (7,18)...\n",
      "Calculating u_kl for (k,l) = (7,19)...\n",
      "Calculating u_kl for (k,l) = (8,0)...\n",
      "Calculating u_kl for (k,l) = (8,1)...\n",
      "Calculating u_kl for (k,l) = (8,2)...\n",
      "Calculating u_kl for (k,l) = (8,3)...\n",
      "Calculating u_kl for (k,l) = (8,4)...\n",
      "Calculating u_kl for (k,l) = (8,5)...\n",
      "Calculating u_kl for (k,l) = (8,6)...\n",
      "Calculating u_kl for (k,l) = (8,7)...\n",
      "Calculating u_kl for (k,l) = (8,8)...\n",
      "Calculating u_kl for (k,l) = (8,9)...\n",
      "Calculating u_kl for (k,l) = (8,10)...\n",
      "Calculating u_kl for (k,l) = (8,11)...\n",
      "Calculating u_kl for (k,l) = (8,12)...\n",
      "Calculating u_kl for (k,l) = (8,13)...\n",
      "Calculating u_kl for (k,l) = (8,14)...\n",
      "Calculating u_kl for (k,l) = (8,15)...\n",
      "Calculating u_kl for (k,l) = (8,16)...\n",
      "Calculating u_kl for (k,l) = (8,17)...\n",
      "Calculating u_kl for (k,l) = (8,18)...\n",
      "Calculating u_kl for (k,l) = (8,19)...\n",
      "Calculating u_kl for (k,l) = (9,0)...\n",
      "Calculating u_kl for (k,l) = (9,1)...\n",
      "Calculating u_kl for (k,l) = (9,2)...\n",
      "Calculating u_kl for (k,l) = (9,3)...\n",
      "Calculating u_kl for (k,l) = (9,4)...\n",
      "Calculating u_kl for (k,l) = (9,5)...\n",
      "Calculating u_kl for (k,l) = (9,6)...\n",
      "Calculating u_kl for (k,l) = (9,7)...\n",
      "Calculating u_kl for (k,l) = (9,8)...\n",
      "Calculating u_kl for (k,l) = (9,9)...\n",
      "Calculating u_kl for (k,l) = (9,10)...\n",
      "Calculating u_kl for (k,l) = (9,11)...\n",
      "Calculating u_kl for (k,l) = (9,12)...\n",
      "Calculating u_kl for (k,l) = (9,13)...\n",
      "Calculating u_kl for (k,l) = (9,14)...\n",
      "Calculating u_kl for (k,l) = (9,15)...\n",
      "Calculating u_kl for (k,l) = (9,16)...\n",
      "Calculating u_kl for (k,l) = (9,17)...\n",
      "Calculating u_kl for (k,l) = (9,18)...\n",
      "Calculating u_kl for (k,l) = (9,19)...\n",
      "Calculating u_kl for (k,l) = (10,0)...\n",
      "Calculating u_kl for (k,l) = (10,1)...\n",
      "Calculating u_kl for (k,l) = (10,2)...\n",
      "Calculating u_kl for (k,l) = (10,3)...\n",
      "Calculating u_kl for (k,l) = (10,4)...\n",
      "Calculating u_kl for (k,l) = (10,5)...\n",
      "Calculating u_kl for (k,l) = (10,6)...\n",
      "Calculating u_kl for (k,l) = (10,7)...\n",
      "Calculating u_kl for (k,l) = (10,8)...\n",
      "Calculating u_kl for (k,l) = (10,9)...\n",
      "Calculating u_kl for (k,l) = (10,10)...\n",
      "Calculating u_kl for (k,l) = (10,11)...\n",
      "Calculating u_kl for (k,l) = (10,12)...\n"
     ]
    },
    {
     "name": "stdout",
     "output_type": "stream",
     "text": [
      "Calculating u_kl for (k,l) = (10,13)...\n",
      "Calculating u_kl for (k,l) = (10,14)...\n",
      "Calculating u_kl for (k,l) = (10,15)...\n",
      "Calculating u_kl for (k,l) = (10,16)...\n",
      "Calculating u_kl for (k,l) = (10,17)...\n",
      "Calculating u_kl for (k,l) = (10,18)...\n",
      "Calculating u_kl for (k,l) = (10,19)...\n",
      "Calculating u_kl for (k,l) = (11,0)...\n",
      "Calculating u_kl for (k,l) = (11,1)...\n",
      "Calculating u_kl for (k,l) = (11,2)...\n",
      "Calculating u_kl for (k,l) = (11,3)...\n",
      "Calculating u_kl for (k,l) = (11,4)...\n",
      "Calculating u_kl for (k,l) = (11,5)...\n",
      "Calculating u_kl for (k,l) = (11,6)...\n",
      "Calculating u_kl for (k,l) = (11,7)...\n",
      "Calculating u_kl for (k,l) = (11,8)...\n",
      "Calculating u_kl for (k,l) = (11,9)...\n",
      "Calculating u_kl for (k,l) = (11,10)...\n",
      "Calculating u_kl for (k,l) = (11,11)...\n",
      "Calculating u_kl for (k,l) = (11,12)...\n",
      "Calculating u_kl for (k,l) = (11,13)...\n",
      "Calculating u_kl for (k,l) = (11,14)...\n",
      "Calculating u_kl for (k,l) = (11,15)...\n",
      "Calculating u_kl for (k,l) = (11,16)...\n",
      "Calculating u_kl for (k,l) = (11,17)...\n",
      "Calculating u_kl for (k,l) = (11,18)...\n",
      "Calculating u_kl for (k,l) = (11,19)...\n",
      "Calculating u_kl for (k,l) = (12,0)...\n",
      "Calculating u_kl for (k,l) = (12,1)...\n",
      "Calculating u_kl for (k,l) = (12,2)...\n",
      "Calculating u_kl for (k,l) = (12,3)...\n",
      "Calculating u_kl for (k,l) = (12,4)...\n",
      "Calculating u_kl for (k,l) = (12,5)...\n",
      "Calculating u_kl for (k,l) = (12,6)...\n",
      "Calculating u_kl for (k,l) = (12,7)...\n",
      "Calculating u_kl for (k,l) = (12,8)...\n",
      "Calculating u_kl for (k,l) = (12,9)...\n",
      "Calculating u_kl for (k,l) = (12,10)...\n",
      "Calculating u_kl for (k,l) = (12,11)...\n",
      "Calculating u_kl for (k,l) = (12,12)...\n",
      "Calculating u_kl for (k,l) = (12,13)...\n",
      "Calculating u_kl for (k,l) = (12,14)...\n",
      "Calculating u_kl for (k,l) = (12,15)...\n",
      "Calculating u_kl for (k,l) = (12,16)...\n",
      "Calculating u_kl for (k,l) = (12,17)...\n",
      "Calculating u_kl for (k,l) = (12,18)...\n",
      "Calculating u_kl for (k,l) = (12,19)...\n",
      "Calculating u_kl for (k,l) = (13,0)...\n",
      "Calculating u_kl for (k,l) = (13,1)...\n",
      "Calculating u_kl for (k,l) = (13,2)...\n",
      "Calculating u_kl for (k,l) = (13,3)...\n",
      "Calculating u_kl for (k,l) = (13,4)...\n",
      "Calculating u_kl for (k,l) = (13,5)...\n",
      "Calculating u_kl for (k,l) = (13,6)...\n",
      "Calculating u_kl for (k,l) = (13,7)...\n",
      "Calculating u_kl for (k,l) = (13,8)...\n",
      "Calculating u_kl for (k,l) = (13,9)...\n",
      "Calculating u_kl for (k,l) = (13,10)...\n",
      "Calculating u_kl for (k,l) = (13,11)...\n",
      "Calculating u_kl for (k,l) = (13,12)...\n",
      "Calculating u_kl for (k,l) = (13,13)...\n",
      "Calculating u_kl for (k,l) = (13,14)...\n",
      "Calculating u_kl for (k,l) = (13,15)...\n",
      "Calculating u_kl for (k,l) = (13,16)...\n",
      "Calculating u_kl for (k,l) = (13,17)...\n",
      "Calculating u_kl for (k,l) = (13,18)...\n",
      "Calculating u_kl for (k,l) = (13,19)...\n",
      "Calculating u_kl for (k,l) = (14,0)...\n",
      "Calculating u_kl for (k,l) = (14,1)...\n",
      "Calculating u_kl for (k,l) = (14,2)...\n",
      "Calculating u_kl for (k,l) = (14,3)...\n",
      "Calculating u_kl for (k,l) = (14,4)...\n",
      "Calculating u_kl for (k,l) = (14,5)...\n",
      "Calculating u_kl for (k,l) = (14,6)...\n",
      "Calculating u_kl for (k,l) = (14,7)...\n",
      "Calculating u_kl for (k,l) = (14,8)...\n",
      "Calculating u_kl for (k,l) = (14,9)...\n",
      "Calculating u_kl for (k,l) = (14,10)...\n",
      "Calculating u_kl for (k,l) = (14,11)...\n",
      "Calculating u_kl for (k,l) = (14,12)...\n",
      "Calculating u_kl for (k,l) = (14,13)...\n",
      "Calculating u_kl for (k,l) = (14,14)...\n",
      "Calculating u_kl for (k,l) = (14,15)...\n",
      "Calculating u_kl for (k,l) = (14,16)...\n",
      "Calculating u_kl for (k,l) = (14,17)...\n",
      "Calculating u_kl for (k,l) = (14,18)...\n",
      "Calculating u_kl for (k,l) = (14,19)...\n",
      "Calculating u_kl for (k,l) = (15,0)...\n",
      "Calculating u_kl for (k,l) = (15,1)...\n",
      "Calculating u_kl for (k,l) = (15,2)...\n",
      "Calculating u_kl for (k,l) = (15,3)...\n",
      "Calculating u_kl for (k,l) = (15,4)...\n",
      "Calculating u_kl for (k,l) = (15,5)...\n",
      "Calculating u_kl for (k,l) = (15,6)...\n",
      "Calculating u_kl for (k,l) = (15,7)...\n",
      "Calculating u_kl for (k,l) = (15,8)...\n",
      "Calculating u_kl for (k,l) = (15,9)...\n",
      "Calculating u_kl for (k,l) = (15,10)...\n",
      "Calculating u_kl for (k,l) = (15,11)...\n",
      "Calculating u_kl for (k,l) = (15,12)...\n",
      "Calculating u_kl for (k,l) = (15,13)...\n",
      "Calculating u_kl for (k,l) = (15,14)...\n",
      "Calculating u_kl for (k,l) = (15,15)...\n",
      "Calculating u_kl for (k,l) = (15,16)...\n",
      "Calculating u_kl for (k,l) = (15,17)...\n",
      "Calculating u_kl for (k,l) = (15,18)...\n",
      "Calculating u_kl for (k,l) = (15,19)...\n",
      "Calculating u_kl for (k,l) = (16,0)...\n",
      "Calculating u_kl for (k,l) = (16,1)...\n",
      "Calculating u_kl for (k,l) = (16,2)...\n",
      "Calculating u_kl for (k,l) = (16,3)...\n",
      "Calculating u_kl for (k,l) = (16,4)...\n",
      "Calculating u_kl for (k,l) = (16,5)...\n",
      "Calculating u_kl for (k,l) = (16,6)...\n",
      "Calculating u_kl for (k,l) = (16,7)...\n",
      "Calculating u_kl for (k,l) = (16,8)...\n",
      "Calculating u_kl for (k,l) = (16,9)...\n",
      "Calculating u_kl for (k,l) = (16,10)...\n",
      "Calculating u_kl for (k,l) = (16,11)...\n",
      "Calculating u_kl for (k,l) = (16,12)...\n",
      "Calculating u_kl for (k,l) = (16,13)...\n",
      "Calculating u_kl for (k,l) = (16,14)...\n",
      "Calculating u_kl for (k,l) = (16,15)...\n",
      "Calculating u_kl for (k,l) = (16,16)...\n",
      "Calculating u_kl for (k,l) = (16,17)...\n",
      "Calculating u_kl for (k,l) = (16,18)...\n",
      "Calculating u_kl for (k,l) = (16,19)...\n",
      "Calculating u_kl for (k,l) = (17,0)...\n",
      "Calculating u_kl for (k,l) = (17,1)...\n",
      "Calculating u_kl for (k,l) = (17,2)...\n",
      "Calculating u_kl for (k,l) = (17,3)...\n",
      "Calculating u_kl for (k,l) = (17,4)...\n",
      "Calculating u_kl for (k,l) = (17,5)...\n",
      "Calculating u_kl for (k,l) = (17,6)...\n",
      "Calculating u_kl for (k,l) = (17,7)...\n",
      "Calculating u_kl for (k,l) = (17,8)...\n",
      "Calculating u_kl for (k,l) = (17,9)...\n",
      "Calculating u_kl for (k,l) = (17,10)...\n",
      "Calculating u_kl for (k,l) = (17,11)...\n",
      "Calculating u_kl for (k,l) = (17,12)...\n",
      "Calculating u_kl for (k,l) = (17,13)...\n",
      "Calculating u_kl for (k,l) = (17,14)...\n",
      "Calculating u_kl for (k,l) = (17,15)...\n",
      "Calculating u_kl for (k,l) = (17,16)...\n",
      "Calculating u_kl for (k,l) = (17,17)...\n",
      "Calculating u_kl for (k,l) = (17,18)...\n",
      "Calculating u_kl for (k,l) = (17,19)...\n",
      "Calculating u_kl for (k,l) = (18,0)...\n",
      "Calculating u_kl for (k,l) = (18,1)...\n",
      "Calculating u_kl for (k,l) = (18,2)...\n",
      "Calculating u_kl for (k,l) = (18,3)...\n",
      "Calculating u_kl for (k,l) = (18,4)...\n",
      "Calculating u_kl for (k,l) = (18,5)...\n",
      "Calculating u_kl for (k,l) = (18,6)...\n",
      "Calculating u_kl for (k,l) = (18,7)...\n",
      "Calculating u_kl for (k,l) = (18,8)...\n",
      "Calculating u_kl for (k,l) = (18,9)...\n",
      "Calculating u_kl for (k,l) = (18,10)...\n",
      "Calculating u_kl for (k,l) = (18,11)...\n",
      "Calculating u_kl for (k,l) = (18,12)...\n",
      "Calculating u_kl for (k,l) = (18,13)...\n",
      "Calculating u_kl for (k,l) = (18,14)...\n",
      "Calculating u_kl for (k,l) = (18,15)...\n",
      "Calculating u_kl for (k,l) = (18,16)...\n",
      "Calculating u_kl for (k,l) = (18,17)...\n",
      "Calculating u_kl for (k,l) = (18,18)...\n",
      "Calculating u_kl for (k,l) = (18,19)...\n",
      "Calculating u_kl for (k,l) = (19,0)...\n",
      "Calculating u_kl for (k,l) = (19,1)...\n",
      "Calculating u_kl for (k,l) = (19,2)...\n",
      "Calculating u_kl for (k,l) = (19,3)...\n",
      "Calculating u_kl for (k,l) = (19,4)...\n",
      "Calculating u_kl for (k,l) = (19,5)...\n",
      "Calculating u_kl for (k,l) = (19,6)...\n",
      "Calculating u_kl for (k,l) = (19,7)...\n",
      "Calculating u_kl for (k,l) = (19,8)...\n",
      "Calculating u_kl for (k,l) = (19,9)...\n",
      "Calculating u_kl for (k,l) = (19,10)...\n",
      "Calculating u_kl for (k,l) = (19,11)...\n",
      "Calculating u_kl for (k,l) = (19,12)...\n",
      "Calculating u_kl for (k,l) = (19,13)...\n",
      "Calculating u_kl for (k,l) = (19,14)...\n",
      "Calculating u_kl for (k,l) = (19,15)...\n",
      "Calculating u_kl for (k,l) = (19,16)...\n",
      "Calculating u_kl for (k,l) = (19,17)...\n",
      "Calculating u_kl for (k,l) = (19,18)...\n",
      "Calculating u_kl for (k,l) = (19,19)...\n",
      "\n",
      "u_kln [[[   0.            0.            0.         ...    0.\n",
      "      0.            0.        ]\n",
      "  [ -16.92325661    9.69099264   -6.15086649 ...    0.\n",
      "      0.            0.        ]\n",
      "  [ -33.04488258   -3.08028265  -16.39781022 ...    0.\n",
      "      0.            0.        ]\n",
      "  ...\n",
      "  [-178.67359468  -59.26953563  -54.7379375  ...    0.\n",
      "      0.            0.        ]\n",
      "  [-181.96913033  -65.70518178  -61.62932562 ...    0.\n",
      "      0.            0.        ]\n",
      "  [-184.46303533  -58.58646928  -59.09215782 ...    0.\n",
      "      0.            0.        ]]\n",
      "\n",
      " [[  16.92325661   -9.69099264    6.15086649 ...    0.\n",
      "      0.            0.        ]\n",
      "  [   0.            0.            0.         ...    0.\n",
      "      0.            0.        ]\n",
      "  [ -16.12162597  -12.77127529  -10.24694373 ...    0.\n",
      "      0.            0.        ]\n",
      "  ...\n",
      "  [-161.75033807  -68.96052826  -48.587071   ...    0.\n",
      "      0.            0.        ]\n",
      "  [-165.04587371  -75.39617442  -55.47845913 ...    0.\n",
      "      0.            0.        ]\n",
      "  [-167.53977872  -68.27746192  -52.94129132 ...    0.\n",
      "      0.            0.        ]]\n",
      "\n",
      " [[  33.04488258    3.08028265   16.39781022 ...    0.\n",
      "      0.            0.        ]\n",
      "  [  16.12162597   12.77127529   10.24694373 ...    0.\n",
      "      0.            0.        ]\n",
      "  [   0.            0.            0.         ...    0.\n",
      "      0.            0.        ]\n",
      "  ...\n",
      "  [-145.6287121   -56.18925297  -38.34012727 ...    0.\n",
      "      0.            0.        ]\n",
      "  [-148.92424775  -62.62489913  -45.2315154  ...    0.\n",
      "      0.            0.        ]\n",
      "  [-151.41815275  -55.50618662  -42.69434759 ...    0.\n",
      "      0.            0.        ]]\n",
      "\n",
      " ...\n",
      "\n",
      " [[ 178.67359468   59.26953563   54.7379375  ...    0.\n",
      "      0.            0.        ]\n",
      "  [ 161.75033807   68.96052826   48.587071   ...    0.\n",
      "      0.            0.        ]\n",
      "  [ 145.6287121    56.18925297   38.34012727 ...    0.\n",
      "      0.            0.        ]\n",
      "  ...\n",
      "  [   0.            0.            0.         ...    0.\n",
      "      0.            0.        ]\n",
      "  [  -3.29553565   -6.43564615   -6.89138813 ...    0.\n",
      "      0.            0.        ]\n",
      "  [  -5.78944065    0.68306635   -4.35422032 ...    0.\n",
      "      0.            0.        ]]\n",
      "\n",
      " [[ 181.96913033   65.70518178   61.62932562 ...    0.\n",
      "      0.            0.        ]\n",
      "  [ 165.04587371   75.39617442   55.47845913 ...    0.\n",
      "      0.            0.        ]\n",
      "  [ 148.92424775   62.62489913   45.2315154  ...    0.\n",
      "      0.            0.        ]\n",
      "  ...\n",
      "  [   3.29553565    6.43564615    6.89138813 ...    0.\n",
      "      0.            0.        ]\n",
      "  [   0.            0.            0.         ...    0.\n",
      "      0.            0.        ]\n",
      "  [  -2.493905      7.1187125     2.53716781 ...    0.\n",
      "      0.            0.        ]]\n",
      "\n",
      " [[ 184.46303533   58.58646928   59.09215782 ...    0.\n",
      "      0.            0.        ]\n",
      "  [ 167.53977872   68.27746192   52.94129132 ...    0.\n",
      "      0.            0.        ]\n",
      "  [ 151.41815275   55.50618662   42.69434759 ...    0.\n",
      "      0.            0.        ]\n",
      "  ...\n",
      "  [   5.78944065   -0.68306635    4.35422032 ...    0.\n",
      "      0.            0.        ]\n",
      "  [   2.493905     -7.1187125    -2.53716781 ...    0.\n",
      "      0.            0.        ]\n",
      "  [   0.            0.            0.         ...    0.\n",
      "      0.            0.        ]]]\n",
      "u_n [0. 0. 0. ... 0. 0. 0.]\n"
     ]
    }
   ],
   "source": [
    "# This step takes the longest by far.\n",
    "\n",
    "for k in range(K):\n",
    "    \n",
    "    # calculate the value of the restraint potential for this (kth) ensemble\n",
    "    k_run = run_indices[k]\n",
    "    k_infile = os.path.join(os.path.abspath(indir),'run_%d_dists.dat'%k_run)\n",
    "    k_distances = np.loadtxt(k_infile)    \n",
    "    use_column = 2\n",
    "    reduced_potential_for_k = beta*(kspring_k[k]/2.0)*(k_distances[:,use_column])**2\n",
    "        \n",
    "    for l in range(L):\n",
    "    # calculate the value of the restraint potential for the lth ensemble\n",
    "        ## Added code\n",
    "        print(\"Calculating u_kl for (k,l) = (%d,%d)...\"%(k,l))\n",
    "        if k == l:\n",
    "            u_kln[k,l,0:N_k[k]] = np.zeros(N_min)\n",
    "            pass\n",
    "        \n",
    "        else:\n",
    "            l_run = run_indices[l]\n",
    "            l_infile = os.path.join(os.path.abspath(indir),'run_%d_dists.dat'%l_run)\n",
    "            l_distances = np.loadtxt(l_infile)\n",
    "\n",
    "            use_column = 2\n",
    "\n",
    "            reduced_potential_for_l = beta*(kspring_k[l]/2.0)*(l_distances[:,use_column])**2\n",
    "            \n",
    "            u_kln[k,l,0:N_k[k]] = reduced_potential_for_l[0:N_min] - reduced_potential_for_k[0:N_min]\n",
    "\n",
    "## no unbiased ensemble for spiroligomers..\n",
    "        ## store energies u_n for the unbiased ensemble\n",
    "#        if l == 0:\n",
    "#            print('u_n_fill_indices[k],u_n_fill_indices[k+1]', u_n_fill_indices[k],u_n_fill_indices[k+1])\n",
    "#            u_n[u_n_fill_indices[k]:u_n_fill_indices[k+1]] = reduced_potential_for_l - reduced_potential_for_k\n",
    "\n",
    "np.save('%s_u_kln.npy'%PROJid,u_kln)\n",
    "print('\\nu_kln', u_kln)\n",
    "print('u_n', u_n)\n",
    "\n"
   ]
  },
  {
   "cell_type": "code",
   "execution_count": 14,
   "metadata": {},
   "outputs": [
    {
     "name": "stdout",
     "output_type": "stream",
     "text": [
      "Running MBAR...\n",
      "K (total states) = 20, total samples = 6288400\n",
      "N_k = \n",
      "[314420 314420 314420 314420 314420 314420 314420 314420 314420 314420\n",
      " 314420 314420 314420 314420 314420 314420 314420 314420 314420 314420]\n",
      "There are 20 states with samples.\n",
      "Initializing free energies to zero.\n",
      "Initial dimensionless free energies with method zeros\n",
      "f_k = \n",
      "[0. 0. 0. 0. 0. 0. 0. 0. 0. 0. 0. 0. 0. 0. 0. 0. 0. 0. 0. 0.]\n",
      "Final dimensionless free energies\n",
      "f_k = \n",
      "[  0.          -1.29732358  -3.88579887  -7.05446002  -9.25319295\n",
      " -10.91532369 -12.06658906 -12.68101179 -12.85666141 -13.04821649\n",
      " -12.97613067 -13.0425949  -12.9964573  -12.81982444 -12.86782431\n",
      " -12.95206641 -12.91745343 -12.89927147 -12.91586568 -12.93092399]\n",
      "MBAR initialization complete.\n"
     ]
    }
   ],
   "source": [
    "## Instantiate the MBAR object\n",
    "print(\"Running MBAR...\")\n",
    "mbar = MBAR(u_kln, N_k, verbose = True)"
   ]
  },
  {
   "cell_type": "code",
   "execution_count": 15,
   "metadata": {},
   "outputs": [
    {
     "name": "stdout",
     "output_type": "stream",
     "text": [
      "Computing PMF for distance d555-ligand_COM\n",
      "bin_n [9. 4. 4. ... 0. 0. 0.]\n",
      "PMF (in units of kT)\n",
      "     bin        f       df\n",
      "     0.6    0.000    0.000\n",
      "     0.8   13.328    0.003\n",
      "     1.0   23.834    0.004\n",
      "     1.2   41.622    0.051\n",
      "     1.4   59.894    0.162\n",
      "     1.6   80.173    0.247\n",
      "     1.8  104.470    0.460\n",
      "     2.0  133.695    0.796\n",
      "     2.2  163.520    0.786\n",
      "     2.4  196.561    0.782\n"
     ]
    }
   ],
   "source": [
    "pmf_columns = [2]\n",
    "for p in pmf_columns:\n",
    "    \n",
    "    print('Computing PMF for distance', column_labels[p])\n",
    "    \n",
    "    # bin the data up into distance bins\n",
    "    nbins = 10\n",
    "    dmin, dmax = 0.5, 2.5  # in nm\n",
    "    dwidth = (dmax-dmin)/nbins\n",
    "    distance_bins = np.arange(dmin, dmax+dwidth, dwidth)\n",
    "    bin_centers = (distance_bins[0:-1]+distance_bins[1:])/2.0\n",
    "    bin_n = np.zeros(N_tot)\n",
    "    \n",
    "    for k in range(K):\n",
    "        run = run_indices[k]\n",
    "        infile = os.path.join(os.path.abspath(indir),'run_%d_dists.dat'%run)\n",
    "        data = np.loadtxt(infile)[:,p]\n",
    "        # added [0:N_min] to data here\n",
    "        bin_n[u_n_fill_indices[k]:u_n_fill_indices[k+1]] = np.digitize(data[0:N_min], distance_bins, right=False)\n",
    "\n",
    "    print('bin_n', bin_n)\n",
    "    \n",
    "    # Compute PMF in unbiased potential (in units of kT).\n",
    "    results = mbar.computePMF(u_n, bin_n, nbins)\n",
    "    f_i = results[0]\n",
    "    df_i = results[1]\n",
    "\n",
    "    # Write out PMF\n",
    "    print(\"PMF (in units of kT)\")\n",
    "    print(\"%8s %8s %8s\" % ('bin', 'f', 'df'))\n",
    "    for i in range(nbins):\n",
    "        print(\"%8.1f %8.3f %8.3f\" % (bin_centers[i], f_i[i], df_i[i]))\n"
   ]
  },
  {
   "cell_type": "code",
   "execution_count": 16,
   "metadata": {},
   "outputs": [
    {
     "name": "stderr",
     "output_type": "stream",
     "text": [
      "No handles with labels found to put in legend.\n"
     ]
    },
    {
     "data": {
      "image/png": "[encoded data removed]",
      "text/plain": [
       "<Figure size 432x288 with 1 Axes>"
      ]
     },
     "metadata": {
      "needs_background": "light"
     },
     "output_type": "display_data"
    }
   ],
   "source": [
    "import matplotlib.pyplot as plt\n",
    "%matplotlib inline  \n",
    "plt.plot(bin_centers, f_i,\"o-\", c='b')\n",
    "plt.errorbar(bin_centers, f_i, yerr=df_i, c='b')\n",
    "plt.xlabel('555-ligandCOM distance (nm)')\n",
    "plt.ylabel('PMF (KT)')\n",
    "plt.legend()\n",
    "plt.show()"
   ]
  },
  {
   "cell_type": "code",
   "execution_count": null,
   "metadata": {},
   "outputs": [],
   "source": []
  },
  {
   "cell_type": "code",
   "execution_count": null,
   "metadata": {},
   "outputs": [],
   "source": []
  },
  {
   "cell_type": "code",
   "execution_count": null,
   "metadata": {},
   "outputs": [],
   "source": []
  },
  {
   "cell_type": "code",
   "execution_count": null,
   "metadata": {},
   "outputs": [],
   "source": []
  },
  {
   "cell_type": "code",
   "execution_count": null,
   "metadata": {},
   "outputs": [],
   "source": []
  },
  {
   "cell_type": "code",
   "execution_count": null,
   "metadata": {
    "collapsed": true
   },
   "outputs": [],
   "source": []
  }
 ],
 "metadata": {
  "kernelspec": {
   "display_name": "Python 3",
   "language": "python",
   "name": "python3"
  },
  "language_info": {
   "codemirror_mode": {
    "name": "ipython",
    "version": 3
   },
   "file_extension": ".py",
   "mimetype": "text/x-python",
   "name": "python",
   "nbconvert_exporter": "python",
   "pygments_lexer": "ipython3",
   "version": "3.7.3"
  }
 },
 "nbformat": 4,
 "nbformat_minor": 2
}
